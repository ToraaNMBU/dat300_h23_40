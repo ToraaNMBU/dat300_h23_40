{
 "cells": [
  {
   "cell_type": "markdown",
   "metadata": {},
   "source": [
    "# Compulsory Assignment 3: Semantic segmentation\n",
    "\n",
    "Please fill out the the group name, number, members and optionally the name below.\n",
    "\n",
    "**Group number**: \\\n",
    "**Group member 1**: Tor Erik \\\n",
    "**Group member 2**: tage :\\\n",
    "**Group member 3**: \\\n",
    "**Group name (optional)**: \n",
    "\n",
    "\n",
    "# Assignment Submission\n",
    "To complete this assignment answer the relevant questions in this notebook and write the code required to implement the relevant models. This is the biggest assignemnt of the semester, and therefore you get two weeks to work on it. However, we reccomend that **you start early**. This assignment has three semi-big sections, each of which build upon the last. So if you delay the assignment until the day before submission, you will most likely fail. This assignment is completed by doing the following. \n",
    "* Submit notebook as an .ipynb file to canvas.\n",
    "* Submit notebook as an .pdf file to canvas.\n",
    "* Submit the python script you run on ORION to canvas.\n",
    "* Submit the SLURM script you run on ORION to canvas.\n",
    "* Submit at least one of your model predictions to the Kaggle leaderboard, and attain a score that is higher than the *BEAT ME* score. \n",
    "\n",
    "NOTE: Remember to go through the rules given in the lecture \"Introduction to compulsory assignments\", as there are many do's and dont's with regard to how you should present the work you are going to submit.\n"
   ]
  },
  {
   "cell_type": "markdown",
   "metadata": {},
   "source": [
    "\n",
    "# Introduction \n",
    "This assignment will center around semantic segmentation of the dataset in the TGS salt identification challenge. Several of the Earths accumulations of oil and gas **also** have huge deposits of salt, which is easier to detect than the actual hydrocarbons. However, knowing where the salt deposits are precisely is still quite difficult, and segmentation of the seismic images is still something that requires expert interpretation of the images. This leads variable, and highly subjective renderings. To create more accurate, objective segmentations TGS (the worlds leading geoscience data company) have created this challenge to determine if a deep learning model is up to the task. \n",
    "\n",
    "## Dataset\n",
    "In this assigmnet you will be given 3500 annotated images. The image, and mask dimensions are 128x128 pixels. With each image there follows an annotation mask where each pixel is classified as `1` (salt deposit) or `0` not salt deposit. The test-dataset contains 500 images, where no ground truth masks are given. To evualuate your model on the test dataset, submit your predictions to the Kaggle leaderboard.\n",
    "\n",
    "## Assignment tasks\n",
    "\n",
    "1. Implement a U-net model, and train it to segment the dataset.\n",
    "2. Implement a U-net model that uses a pre-trained backbone model of your choice (VGGnet, ResNet, DarkNet, etc.), and train it to segment the dataset.\n",
    "3. Train one of the models from part 1 or 2 on Orion, and compare the training times and attained performances.\n",
    "4. Submit the best model prediction on Kaggle learderboard."
   ]
  },
  {
   "cell_type": "markdown",
   "metadata": {},
   "source": [
    "\n",
    "## Submissions to the Kaggle leaderboard\n",
    "\n",
    "Link to the Kaggle leaderboard will be posted in the Canvas assignment.\n",
    "\n",
    "```python\n",
    "y_pred      = model.predict(X_test)                       # Make prediction\n",
    "flat_y_pred = y_pred.flatten()                            # Flatten prediction\n",
    "flat_y_pred[flat_y_pred >= USER_DETERMINED_THRESHOLD] = 1 # Binarize prediction (Optional, depends on output activation used)\n",
    "flat_y_pred[flat_y_pred != 1]   = 0                       # Binarize prediction (Optional, depends on output activation used)\n",
    "submissionDF = pd.DataFrame()\n",
    "submissionDF['ID'] = range(len(flat_y_pred))              # The submission csv file must have a column called 'ID'\n",
    "submissionDF['Prediction'] = flat_y_pred\n",
    "submissionDF.to_csv('submission.csv', index=False)        # Remember to store the dataframe to csv without the nameless index column.\n",
    "```"
   ]
  },
  {
   "cell_type": "markdown",
   "metadata": {},
   "source": [
    "\n",
    "# Library imports"
   ]
  },
  {
   "cell_type": "code",
   "execution_count": null,
   "metadata": {},
   "outputs": [],
   "source": [
    "import time\n",
    "from tqdm import tqdm # Cool progress bar\n",
    "\n",
    "import numpy as np\n",
    "import pandas as pd\n",
    "import h5py\n",
    "\n",
    "import matplotlib.pyplot as plt\n",
    "import seaborn as sns\n",
    "\n",
    "import tensorflow.keras as ks\n",
    "import tensorflow as tf\n",
    "\n",
    "SEED = 458 # Feel free to set another seed if you want to\n",
    "RNG = np.random.default_rng(SEED) # Random number generator\n",
    "tf.random.set_seed(SEED)\n",
    "\n",
    "from utilities import *\n",
    "from visualization import *"
   ]
  },
  {
   "cell_type": "markdown",
   "metadata": {},
   "source": [
    "# Data loading\n",
    "\n",
    "Load the data from the HDF5 file `student_TGS_challenge.h5` that is available on Canvas, and Kaggle.\n",
    "The data should be loaded in the same manner as in CA2. "
   ]
  },
  {
   "cell_type": "code",
   "execution_count": null,
   "metadata": {},
   "outputs": [],
   "source": [
    "dataset_path = './student_TGS_challenge.h5'\n",
    "with h5py.File(dataset_path,'r') as f:\n",
    "    print('Datasets in file:', list(f.keys()))\n",
    "    X_train = np.asarray(f['X_train'])\n",
    "    y_train = np.asarray(f['y_train'])\n",
    "    X_test = np.asarray(f['X_test'])\n",
    "    print('Nr. train images: %i'%(X_train.shape[0]))\n",
    "    print('Nr. test images: %i'%(X_test.shape[0]))\n",
    "\n"
   ]
  },
  {
   "cell_type": "code",
   "execution_count": null,
   "metadata": {},
   "outputs": [],
   "source": [
    "# print the resolution and the number of channels for the train and test images\n",
    "print('X_train shape:', X_train.shape, 'y_train shape:', y_train.shape, X_test.shape)"
   ]
  },
  {
   "cell_type": "markdown",
   "metadata": {},
   "source": [
    "# Visualization\n",
    "\n",
    "Plot a few samples images and masks. Feel free to visualize any other aspects of the dataset that you feel are relevant. "
   ]
  },
  {
   "cell_type": "code",
   "execution_count": null,
   "metadata": {},
   "outputs": [],
   "source": [
    "# plot a few sambles and masks from the training set\n"
   ]
  },
  {
   "cell_type": "markdown",
   "metadata": {},
   "source": [
    "# Preprocessing\n",
    "\n",
    "Preprocess the dataset in whatever ways you think are helpful. "
   ]
  },
  {
   "cell_type": "code",
   "execution_count": null,
   "metadata": {},
   "outputs": [],
   "source": []
  },
  {
   "cell_type": "markdown",
   "metadata": {},
   "source": [
    "# Part 1: Implementing U-net\n",
    "\n",
    "## Intersection over Union\n",
    "\n",
    "The IoU score is a popular metric in both segmentation and object detection problems. \n",
    "\n",
    "If you want to use the `plot_training_history` function in the `visualization.py` library remember to compile the model with the TP, TN, FP, FN metrics such that you can estimate the *Intersection-over-Union*. **However, it is voluntary to estimate IoU**\n",
    "\n",
    "See example below:\n",
    "\n",
    "```python\n",
    "from tensorflow.keras.metrics import FalseNegatives, FalsePositives, TrueNegatives, TruePositives\n",
    "from utilities import F1_score, \n",
    "from visualization import plot_training_history, \n",
    "...\n",
    "model.compile(optimizer='Something', \n",
    "                  loss='Something else', \n",
    "                  metrics=[FalseNegatives(),\n",
    "                           FalsePositives(),\n",
    "                           TrueNegatives(),\n",
    "                           TruePositives(),\n",
    "                           F1_score,\n",
    "                           OtherMetricOfChoice])\n",
    "\n",
    "training_history = model.fit(X_train, y_train, ...)\n",
    "plot_training_history(training_history)\n",
    "```\n",
    "\n",
    "You have also been provided with a custom F1-score metric in the `utilities.py` library, which is specific for image segmentation. **This is mandatory to use when compiling the model**."
   ]
  },
  {
   "cell_type": "markdown",
   "metadata": {},
   "source": [
    "\n",
    "## Task 1.1 Model implementation\n",
    "\n",
    "Implement the classical U-net structure that you have learned about in the lectures. Feel free to experiment with the number of layers, loss-function, batch-normalization, etc. **Remember to compile with the F1-score metric**. \n"
   ]
  },
  {
   "cell_type": "code",
   "execution_count": null,
   "metadata": {},
   "outputs": [],
   "source": [
    "\"\"\"\n",
    "Version of U-Net with dropout and size preservation (padding= 'same')\n",
    "\"\"\" \n",
    "def conv2d_block(input_tensor, n_filters, kernel_size = 3, batchnorm = True):\n",
    "    \"\"\"Function to add 2 convolutional layers with the parameters passed to it\"\"\"\n",
    "    # first layer\n",
    "    x = Conv2D(filters = n_filters, kernel_size = (kernel_size, kernel_size),\\\n",
    "              kernel_initializer = 'he_normal', padding = 'same')(input_tensor)\n",
    "    if batchnorm:\n",
    "        x = BatchNormalization()(x)\n",
    "    x = Activation('relu')(x)\n",
    "    \n",
    "    # second layer\n",
    "    x = Conv2D(filters = n_filters, kernel_size = (kernel_size, kernel_size),\\\n",
    "              kernel_initializer = 'he_normal', padding = 'same')(x)\n",
    "    if batchnorm:\n",
    "        x = BatchNormalization()(x)\n",
    "    x = Activation('relu')(x)\n",
    "    \n",
    "    return x\n",
    "\n",
    "\n",
    "def get_unet(input_img, n_filters = 16, dropout = 0.1, batchnorm = True, n_classes = 2):\n",
    "    # Contracting Path\n",
    "    c1 = conv2d_block(input_img, n_filters * 1, kernel_size = 3, batchnorm = batchnorm)\n",
    "    p1 = MaxPooling2D((2, 2))(c1)\n",
    "    p1 = Dropout(dropout)(p1)\n",
    "    \n",
    "    c2 = conv2d_block(p1, n_filters * 2, kernel_size = 3, batchnorm = batchnorm)\n",
    "    p2 = MaxPooling2D((2, 2))(c2)\n",
    "    p2 = Dropout(dropout)(p2)\n",
    "    \n",
    "    c3 = conv2d_block(p2, n_filters * 4, kernel_size = 3, batchnorm = batchnorm)\n",
    "    p3 = MaxPooling2D((2, 2))(c3)\n",
    "    p3 = Dropout(dropout)(p3)\n",
    "    \n",
    "    c4 = conv2d_block(p3, n_filters * 8, kernel_size = 3, batchnorm = batchnorm)\n",
    "    p4 = MaxPooling2D((2, 2))(c4)\n",
    "    p4 = Dropout(dropout)(p4)\n",
    "    \n",
    "    c5 = conv2d_block(p4, n_filters = n_filters * 16, kernel_size = 3, batchnorm = batchnorm)\n",
    "    \n",
    "    # Expansive Path\n",
    "    u6 = Conv2DTranspose(n_filters * 8, (3, 3), strides = (2, 2), padding = 'same')(c5)\n",
    "    u6 = concatenate([u6, c4])\n",
    "    u6 = Dropout(dropout)(u6)\n",
    "    c6 = conv2d_block(u6, n_filters * 8, kernel_size = 3, batchnorm = batchnorm)\n",
    "    \n",
    "    u7 = Conv2DTranspose(n_filters * 4, (3, 3), strides = (2, 2), padding = 'same')(c6)\n",
    "    u7 = concatenate([u7, c3])\n",
    "    u7 = Dropout(dropout)(u7)\n",
    "    c7 = conv2d_block(u7, n_filters * 4, kernel_size = 3, batchnorm = batchnorm)\n",
    "    \n",
    "    u8 = Conv2DTranspose(n_filters * 2, (3, 3), strides = (2, 2), padding = 'same')(c7)\n",
    "    u8 = concatenate([u8, c2])\n",
    "    u8 = Dropout(dropout)(u8)\n",
    "    c8 = conv2d_block(u8, n_filters * 2, kernel_size = 3, batchnorm = batchnorm)\n",
    "    \n",
    "    u9 = Conv2DTranspose(n_filters * 1, (3, 3), strides = (2, 2), padding = 'same')(c8)\n",
    "    u9 = concatenate([u9, c1])\n",
    "    u9 = Dropout(dropout)(u9)\n",
    "    c9 = conv2d_block(u9, n_filters * 1, kernel_size = 3, batchnorm = batchnorm)\n",
    "    \n",
    "    outputs = Conv2D(n_classes, (1, 1), activation='softmax')(c9)\n",
    "    model = Model(inputs=[input_img], outputs=[outputs])\n",
    "    return model"
   ]
  },
  {
   "cell_type": "code",
   "execution_count": null,
   "metadata": {},
   "outputs": [],
   "source": [
    "from tensorflow.keras.layers import Input, Conv2D, BatchNormalization, Activation, MaxPooling2D, Dropout, Conv2DTranspose, concatenate\n",
    "from tensorflow.keras.models import Model\n",
    "from tensorflow.keras.optimizers import Adam\n",
    "from tensorflow.keras.metrics import FalseNegatives, FalsePositives, TrueNegatives, TruePositives\n",
    "\n",
    "\n",
    "input_img = Input(shape=(128,128,3))\n",
    "model = get_unet(input_img, n_filters = 32, dropout = 0.0, batchnorm = True, n_classes = 1)"
   ]
  },
  {
   "cell_type": "markdown",
   "metadata": {},
   "source": [
    "## Task 1.2 Train the model, and plot the training history\n",
    "Feel free to use the `plot_training_history` function from the provided library `utilities.py`"
   ]
  },
  {
   "cell_type": "code",
   "execution_count": null,
   "metadata": {},
   "outputs": [],
   "source": [
    "batch_size = 64\n",
    "epochs = 10\n",
    "\n",
    "# Create a validation split\n",
    "validation_split = 1/6\n",
    "\n",
    "# Compile the model\n",
    "model.compile(optimizer=Adam(learning_rate=0.001),\n",
    "              loss='binary_crossentropy',\n",
    "              metrics=[FalseNegatives(),\n",
    "                       FalsePositives(),\n",
    "                       TrueNegatives(),\n",
    "                       TruePositives(),\n",
    "                       F1_score])\n",
    "# Train the model\n",
    "start_time = time.time()\n",
    "history = model.fit(X_train, y_train, \n",
    "                    batch_size=batch_size, \n",
    "                    epochs=epochs, \n",
    "                    validation_split=validation_split)\n",
    "end_time = time.time()\n",
    "elapsed_time = end_time - start_time\n",
    "print(f\"Training took {elapsed_time:.5f} seconds.\")\n",
    "\n",
    "model.save(\"/mnt/users/dat300-h23-40/ca3/models/model.keras\")\n"
   ]
  },
  {
   "cell_type": "markdown",
   "metadata": {},
   "source": [
    "## Task 1.3 Visualize model predictions\n",
    "\n",
    "Make a plot that illustrates the original image, the predicted mask, and the ground truth mask. "
   ]
  },
  {
   "cell_type": "markdown",
   "metadata": {},
   "source": [
    "# Part 2: Implementing U-net with transfer learning\n",
    "\n",
    "Implement a model with the U-net structure that you have learned about in the lectures, but now with a pre-trained backbone. There are many pre-trained back-bones to choose from. Pick freely from the selection here [tf.keras.applications](https://www.tensorflow.org/api_docs/python/tf/keras/applications), or here [Keras model scores](https://keras.io/api/applications/) (nicer table in the second link). Feel free to experiment with the number of layers, loss-function, batch-normalization, etc. Many of the backbones available are quite big, so you might find it quite time-consuming to train them on your personal computers. It might be expedient to only train them for 1-5 epochs on your PCs, and do the full training on Orion in Part 3. \n",
    "\n",
    "## Task 2.1 Transfer learning model implementation\n",
    "\n",
    "Implement a U-net model utilizing the pre-trained weights of a publically available network. **Remember to compile with the F1-score metric**."
   ]
  },
  {
   "cell_type": "code",
   "execution_count": null,
   "metadata": {},
   "outputs": [],
   "source": []
  },
  {
   "cell_type": "markdown",
   "metadata": {},
   "source": [
    "## Task 2.2 Train the transfer learning model and plot the training history\n",
    "\n",
    "Feel free to use the `plot_training_history` function from the provided library `utilities.py`"
   ]
  },
  {
   "cell_type": "code",
   "execution_count": null,
   "metadata": {},
   "outputs": [],
   "source": []
  },
  {
   "cell_type": "markdown",
   "metadata": {},
   "source": [
    "# Part 3: Training your model Orion\n",
    "\n",
    "Use the lecture slides from the Orion-lecture to get started.\n",
    "1. Put one of your model implementations into a python script (`.py`)\n",
    "2. Transfer that script to Orion.\n",
    "3. Change the relevant path variables in your python script (path-to-data for example), and make sure that you record the time it takes to train the model in the script. This can be done using the `time` library for example.\n",
    "4. Set up a SLURM-script to train your model, please use the example from the Orion lecture as a base.\n",
    "5. Submit your SLURM job, and let the magic happen. \n",
    "\n",
    "If you wish to use a model trained on Orion to make a Kaggle submission, remeber to save the model, such that you can transfer it to your local computer to make a prediction on `X_test`, or test the model on Orion directly if you want to. \n",
    "\n",
    "## Tips\n",
    "\n",
    "If you compiled, trained and stored a model on Orion with a custom performance metric (such as F1-score), remember to specify that metric when loading the model on your computer again.\n",
    "\n",
    "Loading a saved model:\n",
    "```python\n",
    "trained_model = tf.keras.models.load_model('some/path/to/my_trained_model.keras', custom_objects={'F1_score': F1_score})\n",
    "```\n",
    "\n",
    "Loading a checkpoint:\n",
    "```python\n",
    "trained_model = tf.keras.saving.load_model('some/path/to/my_trained_model_checkpoint', custom_objects={'F1_score': F1_score})\n",
    "```"
   ]
  },
  {
   "cell_type": "markdown",
   "metadata": {},
   "source": [
    "# Discussion\n",
    "\n",
    "**Question 1: Which model architectures did you explore, and what type of hyperparameter optimization did you try?**\n",
    "\n",
    "**Answer 1:**\n",
    "\n",
    "**Question 2: Which of the model(s) did you choose to train on Orion, and how long did it take to train it on Orion?**\n",
    "\n",
    "**Answer 2:**\n",
    "\n",
    "**Question 3: What where the biggest challenges with this assignment?**\n",
    "\n",
    "**Answer 3:**"
   ]
  },
  {
   "cell_type": "markdown",
   "metadata": {},
   "source": [
    "# Kaggle submission\n",
    "\n",
    "Evaluate your best model on the test dataset and submit your prediction to the Kaggle leaderboard.\n",
    "Link to the Kaggle leaderboard will be posted in the Canvas assignment."
   ]
  },
  {
   "cell_type": "code",
   "execution_count": null,
   "metadata": {},
   "outputs": [],
   "source": [
    "y_pred = model.predict(X_test)\n",
    "\n",
    "flat_y_pred = y_pred.flatten() # Flatten prediction\n",
    "flat_y_pred[flat_y_pred >= THRESHOLD] = 1 # Binarize prediction (Optional, depends on output activation used)\n",
    "flat_y_pred[flat_y_pred != 1]   = 0 # Binarize prediction (Optional, depends on output activation used)\n",
    "submissionDF = pd.DataFrame()\n",
    "submissionDF['ID'] = range(len(flat_y_pred)) # The submission csv file must have a column called 'ID'\n",
    "submissionDF['Prediction'] = flat_y_pred\n",
    "submissionDF.to_csv('submission.csv', index=False) # Remember to store the dataframe to csv without the nameless index column."
   ]
  },
  {
   "cell_type": "code",
   "execution_count": null,
   "metadata": {},
   "outputs": [],
   "source": []
  }
 ],
 "metadata": {
  "kernelspec": {
   "display_name": "u_net",
   "language": "python",
   "name": "python3"
  },
  "language_info": {
   "codemirror_mode": {
    "name": "ipython",
    "version": 3
   },
   "file_extension": ".py",
   "mimetype": "text/x-python",
   "name": "python",
   "nbconvert_exporter": "python",
   "pygments_lexer": "ipython3",
   "version": "3.10.12"
  },
  "orig_nbformat": 4
 },
 "nbformat": 4,
 "nbformat_minor": 2
}
